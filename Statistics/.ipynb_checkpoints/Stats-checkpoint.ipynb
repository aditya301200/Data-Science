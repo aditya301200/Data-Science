{
 "cells": [
  {
   "cell_type": "code",
   "execution_count": 1,
   "id": "4c52a4df-cfe6-425e-9d8b-aed4f3247cc9",
   "metadata": {},
   "outputs": [],
   "source": [
    "import numpy as np\n",
    "import statistics as stats\n",
    "import pandas as pd"
   ]
  },
  {
   "cell_type": "markdown",
   "id": "6bb8a0e5-2946-4574-bd48-4408c2446c75",
   "metadata": {
    "jp-MarkdownHeadingCollapsed": true
   },
   "source": [
    "# Calulating Mean"
   ]
  },
  {
   "cell_type": "markdown",
   "id": "a42e691b-fc35-44e3-a66e-e30aaa4cb33a",
   "metadata": {},
   "source": [
    "### Method 1 - Manual Calculation"
   ]
  },
  {
   "cell_type": "code",
   "execution_count": 2,
   "id": "a18ea0d9-a87f-48dc-b95f-b7dc76f71aad",
   "metadata": {},
   "outputs": [
    {
     "name": "stdout",
     "output_type": "stream",
     "text": [
      "Population Mean is  160.0\n",
      "Sample Mean is  161.66666666666666\n"
     ]
    }
   ],
   "source": [
    "population = [150,160,170,165,155]\n",
    "sample = [150,170,165]\n",
    "\n",
    "pop_mean = sum(population)/len(population)\n",
    "sample_mean = sum(sample)/len(sample)\n",
    "\n",
    "print(\"Population Mean is \",pop_mean)\n",
    "print(\"Sample Mean is \",sample_mean)"
   ]
  },
  {
   "cell_type": "markdown",
   "id": "a0d071b6-7245-4634-ba64-0df06a7f4aa3",
   "metadata": {},
   "source": [
    "### Method 2 - using numpy library"
   ]
  },
  {
   "cell_type": "code",
   "execution_count": 3,
   "id": "770d05f4-247c-43f5-9bc3-c18c2de18b1f",
   "metadata": {},
   "outputs": [
    {
     "name": "stdout",
     "output_type": "stream",
     "text": [
      "86.6\n"
     ]
    }
   ],
   "source": [
    "data = [85,90,78,92,88]\n",
    "\n",
    "arithmetic_mean = np.mean(data)\n",
    "print(arithmetic_mean)"
   ]
  },
  {
   "cell_type": "markdown",
   "id": "f6288911-7ae1-4b0d-8cce-0416118eec98",
   "metadata": {},
   "source": [
    "### Method 3 - Using statistics"
   ]
  },
  {
   "cell_type": "code",
   "execution_count": 4,
   "id": "8ee2db95-36fa-43a1-97fe-8898eb94c421",
   "metadata": {},
   "outputs": [
    {
     "name": "stdout",
     "output_type": "stream",
     "text": [
      "The mean is:  30\n"
     ]
    }
   ],
   "source": [
    "var = [10,20,30,40,50]\n",
    "\n",
    "mean_stats = stats.mean(var)\n",
    "\n",
    "print(\"The mean is: \",mean_stats)"
   ]
  },
  {
   "cell_type": "markdown",
   "id": "6a20af19-b7a0-4174-b4cd-0a21db651c21",
   "metadata": {
    "jp-MarkdownHeadingCollapsed": true
   },
   "source": [
    "# Calculating Median"
   ]
  },
  {
   "cell_type": "markdown",
   "id": "1f5191f4-a8d9-43bb-9aa9-26c58384d58c",
   "metadata": {},
   "source": [
    "### Methos 1 - Using numpy"
   ]
  },
  {
   "cell_type": "code",
   "execution_count": 5,
   "id": "a089d6ba-e712-4372-921e-20f8d1191608",
   "metadata": {},
   "outputs": [
    {
     "name": "stdout",
     "output_type": "stream",
     "text": [
      "The median is:  25.0\n"
     ]
    }
   ],
   "source": [
    "var = [10,20,34,75,12,31,25]\n",
    "\n",
    "median = np.median(var)\n",
    "\n",
    "print(\"The median is: \", median)"
   ]
  },
  {
   "cell_type": "markdown",
   "id": "1b9df7e8-9613-492d-b000-85bafe453a8d",
   "metadata": {},
   "source": [
    "### Method 2 - Using Statistics"
   ]
  },
  {
   "cell_type": "code",
   "execution_count": 6,
   "id": "4495a24a-979e-44a6-8963-770d8547e3cd",
   "metadata": {},
   "outputs": [
    {
     "name": "stdout",
     "output_type": "stream",
     "text": [
      "The median is:  25\n"
     ]
    }
   ],
   "source": [
    "median_stats = stats.median(var)\n",
    "print(\"The median is: \",median_stats)"
   ]
  },
  {
   "cell_type": "markdown",
   "id": "cfb40e8e-6e6b-41c4-8dce-30f35ec120ca",
   "metadata": {},
   "source": [
    "### Method 3 - Using Pandas"
   ]
  },
  {
   "cell_type": "code",
   "execution_count": 7,
   "id": "43b486f0-769e-468c-ad49-95536dbaa4f5",
   "metadata": {},
   "outputs": [
    {
     "name": "stdout",
     "output_type": "stream",
     "text": [
      "The median is:  25.0\n"
     ]
    }
   ],
   "source": [
    "df = pd.DataFrame({\n",
    "    \"values\": [10,20,34,75,12,31,25]\n",
    "})\n",
    "median_pd = df[\"values\"].median()\n",
    "print(\"The median is: \",median_pd)"
   ]
  },
  {
   "cell_type": "markdown",
   "id": "915c89cb-8d43-452d-b2a5-ee6eb59c7b50",
   "metadata": {
    "jp-MarkdownHeadingCollapsed": true
   },
   "source": [
    "# Calculating Mode"
   ]
  },
  {
   "cell_type": "markdown",
   "id": "e415f7c9-6cf2-44a1-8ce7-110bbb142d8d",
   "metadata": {},
   "source": [
    "### Method 1 - Using Statistics"
   ]
  },
  {
   "cell_type": "code",
   "execution_count": 8,
   "id": "d5b22c77-5b67-4926-b5dc-f03bc89e931e",
   "metadata": {},
   "outputs": [
    {
     "name": "stdout",
     "output_type": "stream",
     "text": [
      "The mode is:  85\n"
     ]
    }
   ],
   "source": [
    "data = [85,90,90,95,85,85,96,80,90]\n",
    "mode = stats.mode(data)\n",
    "print(\"The mode is: \",mode)"
   ]
  },
  {
   "cell_type": "code",
   "execution_count": 9,
   "id": "6de4b560-4494-408d-b71a-9709ab2936cb",
   "metadata": {},
   "outputs": [
    {
     "name": "stdout",
     "output_type": "stream",
     "text": [
      "The mode is:  [85, 90]\n"
     ]
    }
   ],
   "source": [
    "data = [85,90,90,95,85,85,96,80,90]\n",
    "mode = stats.multimode(data)\n",
    "print(\"The mode is: \",mode)"
   ]
  },
  {
   "cell_type": "markdown",
   "id": "31d5d786-0be2-4ea2-8d5f-1e0e846c9cd0",
   "metadata": {},
   "source": [
    "### Method 2 - Using library"
   ]
  },
  {
   "cell_type": "code",
   "execution_count": 10,
   "id": "38282034-0e2f-45c2-b0c6-0c48db1e8057",
   "metadata": {},
   "outputs": [
    {
     "name": "stdout",
     "output_type": "stream",
     "text": [
      "The mode is:  ModeResult(mode=85, count=3)\n"
     ]
    }
   ],
   "source": [
    "from scipy import stats\n",
    "\n",
    "data = [85,90,90,95,85,85,96,80,90]\n",
    "mode = stats.mode(data)\n",
    "print(\"The mode is: \",mode)"
   ]
  },
  {
   "cell_type": "markdown",
   "id": "1e33ad1f-3427-47e2-81a7-23eec31ba4c6",
   "metadata": {},
   "source": [
    "# Calculating Variance"
   ]
  },
  {
   "cell_type": "markdown",
   "id": "f0a55a0a-0331-45f9-8a72-ae2344e82ae0",
   "metadata": {},
   "source": [
    "### Method 1 - Using numpy"
   ]
  },
  {
   "cell_type": "code",
   "execution_count": 11,
   "id": "9043773a-05d0-44ed-a429-380a8900fcb4",
   "metadata": {},
   "outputs": [
    {
     "name": "stdout",
     "output_type": "stream",
     "text": [
      "The sample variance is:  5.410714285714286\n",
      "The population vairance is:  4.734375\n"
     ]
    }
   ],
   "source": [
    "data = [2,4,4,5,6,7,8,9]\n",
    "sample_var = np.var(data,ddof=1)\n",
    "pop_var = np.var(data,ddof=0)\n",
    "\n",
    "print(\"The sample variance is: \",sample_var)\n",
    "print(\"The population vairance is: \",pop_var)"
   ]
  },
  {
   "cell_type": "markdown",
   "id": "4b066f58-9cb2-4ae3-a7fc-1a2a20fed47d",
   "metadata": {},
   "source": [
    "### Method 2 - Using pandas"
   ]
  },
  {
   "cell_type": "code",
   "execution_count": 12,
   "id": "587d4ca5-183a-4690-9d2a-4e7d96136c0f",
   "metadata": {},
   "outputs": [
    {
     "name": "stdout",
     "output_type": "stream",
     "text": [
      "The sample variance is:  345.6\n",
      "The population variance is:  314.1818181818182\n"
     ]
    }
   ],
   "source": [
    "data = [2,5,6,67,8,5,4,9,14,2,10]\n",
    "series = pd.Series(data)\n",
    "\n",
    "sample_var = series.var()\n",
    "print(\"The sample variance is: \",sample_var)\n",
    "\n",
    "\n",
    "pop_var = series.var(ddof=0)\n",
    "print(\"The population variance is: \",pop_var)"
   ]
  },
  {
   "cell_type": "markdown",
   "id": "58e1af8a-e4fc-4fff-9051-1d5d9ba03658",
   "metadata": {},
   "source": [
    "### Method 3 - Using scipy"
   ]
  },
  {
   "cell_type": "code",
   "execution_count": 13,
   "id": "e2bcb255-75c4-4038-9896-c45a60a0eb12",
   "metadata": {},
   "outputs": [
    {
     "name": "stdout",
     "output_type": "stream",
     "text": [
      "The sample variance is:  345.6\n",
      "The population variance is:  314.1818181818182\n"
     ]
    }
   ],
   "source": [
    "from scipy import stats\n",
    "\n",
    "data = [2,5,6,67,8,5,4,9,14,2,10]\n",
    "\n",
    "sample_var = stats.tvar(data)\n",
    "print(\"The sample variance is: \",sample_var)\n",
    "\n",
    "pop_var = stats.tvar(data,ddof=0)\n",
    "print(\"The population variance is: \",pop_var)"
   ]
  },
  {
   "cell_type": "code",
   "execution_count": null,
   "id": "bad57ba8-10a8-4077-ae2a-2dc203e5f93a",
   "metadata": {},
   "outputs": [],
   "source": []
  }
 ],
 "metadata": {
  "kernelspec": {
   "display_name": "Python 3 (ipykernel)",
   "language": "python",
   "name": "python3"
  },
  "language_info": {
   "codemirror_mode": {
    "name": "ipython",
    "version": 3
   },
   "file_extension": ".py",
   "mimetype": "text/x-python",
   "name": "python",
   "nbconvert_exporter": "python",
   "pygments_lexer": "ipython3",
   "version": "3.12.7"
  }
 },
 "nbformat": 4,
 "nbformat_minor": 5
}
