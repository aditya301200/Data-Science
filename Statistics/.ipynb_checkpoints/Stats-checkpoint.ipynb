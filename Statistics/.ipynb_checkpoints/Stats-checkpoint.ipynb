{
 "cells": [
  {
   "cell_type": "code",
   "execution_count": 1,
   "id": "4c52a4df-cfe6-425e-9d8b-aed4f3247cc9",
   "metadata": {},
   "outputs": [],
   "source": [
    "import numpy as np\n",
    "import statistics as stats\n",
    "import pandas as pd"
   ]
  },
  {
   "cell_type": "markdown",
   "id": "6bb8a0e5-2946-4574-bd48-4408c2446c75",
   "metadata": {},
   "source": [
    "# Calulating Mean"
   ]
  },
  {
   "cell_type": "markdown",
   "id": "a42e691b-fc35-44e3-a66e-e30aaa4cb33a",
   "metadata": {},
   "source": [
    "### Method 1 - Manual Calculation"
   ]
  },
  {
   "cell_type": "code",
   "execution_count": 2,
   "id": "a18ea0d9-a87f-48dc-b95f-b7dc76f71aad",
   "metadata": {},
   "outputs": [
    {
     "name": "stdout",
     "output_type": "stream",
     "text": [
      "Population Mean is  160.0\n",
      "Sample Mean is  161.66666666666666\n"
     ]
    }
   ],
   "source": [
    "population = [150,160,170,165,155]\n",
    "sample = [150,170,165]\n",
    "\n",
    "pop_mean = sum(population)/len(population)\n",
    "sample_mean = sum(sample)/len(sample)\n",
    "\n",
    "print(\"Population Mean is \",pop_mean)\n",
    "print(\"Sample Mean is \",sample_mean)"
   ]
  },
  {
   "cell_type": "markdown",
   "id": "a0d071b6-7245-4634-ba64-0df06a7f4aa3",
   "metadata": {},
   "source": [
    "### Method 2 - using numpy library"
   ]
  },
  {
   "cell_type": "code",
   "execution_count": 3,
   "id": "770d05f4-247c-43f5-9bc3-c18c2de18b1f",
   "metadata": {},
   "outputs": [
    {
     "name": "stdout",
     "output_type": "stream",
     "text": [
      "86.6\n"
     ]
    }
   ],
   "source": [
    "data = [85,90,78,92,88]\n",
    "\n",
    "arithmetic_mean = np.mean(data)\n",
    "print(arithmetic_mean)"
   ]
  },
  {
   "cell_type": "markdown",
   "id": "f6288911-7ae1-4b0d-8cce-0416118eec98",
   "metadata": {},
   "source": [
    "### Method 3 - Using statistics"
   ]
  },
  {
   "cell_type": "code",
   "execution_count": 4,
   "id": "8ee2db95-36fa-43a1-97fe-8898eb94c421",
   "metadata": {},
   "outputs": [
    {
     "name": "stdout",
     "output_type": "stream",
     "text": [
      "The mean is:  30\n"
     ]
    }
   ],
   "source": [
    "var = [10,20,30,40,50]\n",
    "\n",
    "mean_stats = stats.mean(var)\n",
    "\n",
    "print(\"The mean is: \",mean_stats)"
   ]
  },
  {
   "cell_type": "markdown",
   "id": "6a20af19-b7a0-4174-b4cd-0a21db651c21",
   "metadata": {},
   "source": [
    "# Calculating Median"
   ]
  },
  {
   "cell_type": "markdown",
   "id": "1f5191f4-a8d9-43bb-9aa9-26c58384d58c",
   "metadata": {},
   "source": [
    "### Methos 1 - Using numpy"
   ]
  },
  {
   "cell_type": "code",
   "execution_count": 5,
   "id": "a089d6ba-e712-4372-921e-20f8d1191608",
   "metadata": {},
   "outputs": [
    {
     "name": "stdout",
     "output_type": "stream",
     "text": [
      "The median is:  25.0\n"
     ]
    }
   ],
   "source": [
    "var = [10,20,34,75,12,31,25]\n",
    "\n",
    "median = np.median(var)\n",
    "\n",
    "print(\"The median is: \", median)"
   ]
  },
  {
   "cell_type": "markdown",
   "id": "1b9df7e8-9613-492d-b000-85bafe453a8d",
   "metadata": {},
   "source": [
    "### Method 2 - Using Statistics"
   ]
  },
  {
   "cell_type": "code",
   "execution_count": 6,
   "id": "4495a24a-979e-44a6-8963-770d8547e3cd",
   "metadata": {},
   "outputs": [
    {
     "name": "stdout",
     "output_type": "stream",
     "text": [
      "The median is:  25\n"
     ]
    }
   ],
   "source": [
    "median_stats = stats.median(var)\n",
    "print(\"The median is: \",median_stats)"
   ]
  },
  {
   "cell_type": "markdown",
   "id": "cfb40e8e-6e6b-41c4-8dce-30f35ec120ca",
   "metadata": {},
   "source": [
    "### Method 3 - Using Pandas"
   ]
  },
  {
   "cell_type": "code",
   "execution_count": 13,
   "id": "43b486f0-769e-468c-ad49-95536dbaa4f5",
   "metadata": {},
   "outputs": [
    {
     "name": "stdout",
     "output_type": "stream",
     "text": [
      "The median is:  25.0\n"
     ]
    }
   ],
   "source": [
    "df = pd.DataFrame({\n",
    "    \"values\": [10,20,34,75,12,31,25]\n",
    "})\n",
    "median_pd = df[\"values\"].median()\n",
    "print(\"The median is: \",median_pd)"
   ]
  },
  {
   "cell_type": "code",
   "execution_count": null,
   "id": "bbe453b8-761f-4657-80a1-9d45fefbdfae",
   "metadata": {},
   "outputs": [],
   "source": []
  }
 ],
 "metadata": {
  "kernelspec": {
   "display_name": "Python 3 (ipykernel)",
   "language": "python",
   "name": "python3"
  },
  "language_info": {
   "codemirror_mode": {
    "name": "ipython",
    "version": 3
   },
   "file_extension": ".py",
   "mimetype": "text/x-python",
   "name": "python",
   "nbconvert_exporter": "python",
   "pygments_lexer": "ipython3",
   "version": "3.12.7"
  }
 },
 "nbformat": 4,
 "nbformat_minor": 5
}
