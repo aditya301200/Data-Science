{
 "cells": [
  {
   "cell_type": "markdown",
   "id": "82db0e92-13b2-410a-a10e-93763c0f1e51",
   "metadata": {},
   "source": [
    "# F test using Python"
   ]
  },
  {
   "cell_type": "code",
   "execution_count": 1,
   "id": "93c34d4d-4665-4620-b64b-e6ce9bafeb0d",
   "metadata": {},
   "outputs": [],
   "source": [
    "# Evidence to say that the two population variable are not eual\n",
    "\n",
    "worker1 = [18,19,22,25,27,28,41,45,51,55]\n",
    "worker2 = [14,15,15,17,18,22,25,25,27,34]"
   ]
  },
  {
   "cell_type": "code",
   "execution_count": 4,
   "id": "18c64c1a-af97-44d5-82e6-ba97573d5ba1",
   "metadata": {},
   "outputs": [
    {
     "data": {
      "text/plain": [
       "4.387122002085506"
      ]
     },
     "execution_count": 4,
     "metadata": {},
     "output_type": "execute_result"
    }
   ],
   "source": [
    "# calculating the F-test\n",
    "import numpy as np\n",
    "f_test = np.var(worker1)/np.var(worker2)\n",
    "f_test"
   ]
  },
  {
   "cell_type": "code",
   "execution_count": 6,
   "id": "4544e870-f4aa-4a06-855a-9e299108122b",
   "metadata": {},
   "outputs": [],
   "source": [
    "# Degree of freedom\n",
    "df1 = len(worker1)-1;\n",
    "df2 = len(worker2)-1;\n",
    "significance_value = 0.05"
   ]
  },
  {
   "cell_type": "code",
   "execution_count": 8,
   "id": "9d1d4cc6-38d9-4e68-93bb-d68065cc3122",
   "metadata": {},
   "outputs": [],
   "source": [
    "import scipy.stats as stat"
   ]
  },
  {
   "cell_type": "code",
   "execution_count": 10,
   "id": "c937fb4e-7226-40ae-b90c-9c6e84a7b518",
   "metadata": {},
   "outputs": [],
   "source": [
    "critical_value = stat.f.ppf(q = 1-significance_value, dfn=df1, dfd=df2)"
   ]
  },
  {
   "cell_type": "code",
   "execution_count": 11,
   "id": "dd383399-23da-4b55-bc29-af357d7cdd5d",
   "metadata": {},
   "outputs": [
    {
     "data": {
      "text/plain": [
       "3.178893104458269"
      ]
     },
     "execution_count": 11,
     "metadata": {},
     "output_type": "execute_result"
    }
   ],
   "source": [
    "critical_value"
   ]
  },
  {
   "cell_type": "code",
   "execution_count": 12,
   "id": "f331bc0c-bfd1-41b9-9ace-5c799f7abf71",
   "metadata": {},
   "outputs": [
    {
     "name": "stdout",
     "output_type": "stream",
     "text": [
      "reject the Null Hypothesis\n"
     ]
    }
   ],
   "source": [
    "if f_test > critical_value:\n",
    "    print(\"reject the Null Hypothesis\")\n",
    "else:\n",
    "    print(\"We fail to reject the Null Hypothesis\")"
   ]
  }
 ],
 "metadata": {
  "kernelspec": {
   "display_name": "Python 3 (ipykernel)",
   "language": "python",
   "name": "python3"
  },
  "language_info": {
   "codemirror_mode": {
    "name": "ipython",
    "version": 3
   },
   "file_extension": ".py",
   "mimetype": "text/x-python",
   "name": "python",
   "nbconvert_exporter": "python",
   "pygments_lexer": "ipython3",
   "version": "3.12.7"
  }
 },
 "nbformat": 4,
 "nbformat_minor": 5
}
