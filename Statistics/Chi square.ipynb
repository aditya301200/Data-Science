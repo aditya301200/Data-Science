{
 "cells": [
  {
   "cell_type": "markdown",
   "id": "35f48119-8082-4334-99b8-d6622d203fd5",
   "metadata": {},
   "source": [
    "# Chi Square Test with Python"
   ]
  },
  {
   "cell_type": "code",
   "execution_count": 1,
   "id": "092e65a0-b31e-4c8b-bbde-2153bce7ec09",
   "metadata": {},
   "outputs": [],
   "source": [
    "import scipy.stats as stat\n",
    "import numpy as np"
   ]
  },
  {
   "cell_type": "code",
   "execution_count": 2,
   "id": "1a947ab4-f3ba-40ea-9a4d-1558ddd6c795",
   "metadata": {},
   "outputs": [],
   "source": [
    "# No. of hours student study in a weekly basis daily\n",
    "# mon,tue,wed,thu,fri,sat,sun\n",
    "expected_data = [8,6,7,9,6,9,7]\n",
    "observed_data = [7,8,6,9,9,6,7]"
   ]
  },
  {
   "cell_type": "code",
   "execution_count": 3,
   "id": "823e5ea4-d967-4aa1-b243-655b5e8a846c",
   "metadata": {},
   "outputs": [],
   "source": [
    "# Chi-square goodness of Fit test\n",
    "chisquaretest_stat,p_value = stat.chisquare(observed_data,expected_data)"
   ]
  },
  {
   "cell_type": "code",
   "execution_count": 4,
   "id": "7fa3eb6b-fca0-447c-8347-a39446cfcce7",
   "metadata": {},
   "outputs": [
    {
     "data": {
      "text/plain": [
       "(3.4345238095238093, 0.7526596580922865)"
      ]
     },
     "execution_count": 4,
     "metadata": {},
     "output_type": "execute_result"
    }
   ],
   "source": [
    "chisquaretest_stat,p_value"
   ]
  },
  {
   "cell_type": "code",
   "execution_count": 5,
   "id": "05add829-dc7a-4f0d-823b-15b58adb7653",
   "metadata": {},
   "outputs": [
    {
     "name": "stdout",
     "output_type": "stream",
     "text": [
      "7\n"
     ]
    }
   ],
   "source": [
    "# Find the critical value\n",
    "significance_value = 0.05\n",
    "dof = len(expected_data) # degree of freedom\n",
    "print(dof)\n",
    "critical_value = stat.chi2.ppf(1-significance_value,dof)"
   ]
  },
  {
   "cell_type": "code",
   "execution_count": 6,
   "id": "a7412fdd-0425-4d96-8492-60a2d727a107",
   "metadata": {},
   "outputs": [
    {
     "data": {
      "text/plain": [
       "14.067140449340169"
      ]
     },
     "execution_count": 6,
     "metadata": {},
     "output_type": "execute_result"
    }
   ],
   "source": [
    "critical_value"
   ]
  },
  {
   "cell_type": "code",
   "execution_count": 7,
   "id": "001228cd-d1c2-471a-9287-477ad6ea037e",
   "metadata": {},
   "outputs": [
    {
     "name": "stdout",
     "output_type": "stream",
     "text": [
      "Accept the null hypothesis\n"
     ]
    }
   ],
   "source": [
    "if chisquaretest_stat > critical_value:\n",
    "    print(\"Reject the null hypothesis\")\n",
    "else:\n",
    "    print(\"Accept the null hypothesis\")"
   ]
  },
  {
   "cell_type": "code",
   "execution_count": null,
   "id": "06a422ff-f6fd-424b-868b-db7ade7f239d",
   "metadata": {},
   "outputs": [],
   "source": []
  }
 ],
 "metadata": {
  "kernelspec": {
   "display_name": "Python 3 (ipykernel)",
   "language": "python",
   "name": "python3"
  },
  "language_info": {
   "codemirror_mode": {
    "name": "ipython",
    "version": 3
   },
   "file_extension": ".py",
   "mimetype": "text/x-python",
   "name": "python",
   "nbconvert_exporter": "python",
   "pygments_lexer": "ipython3",
   "version": "3.12.7"
  }
 },
 "nbformat": 4,
 "nbformat_minor": 5
}
