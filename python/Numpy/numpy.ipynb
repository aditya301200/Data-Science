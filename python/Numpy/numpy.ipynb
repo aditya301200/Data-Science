{
 "cells": [
  {
   "cell_type": "markdown",
   "id": "8ec6c454-0f48-4637-9315-9667da0316ad",
   "metadata": {
    "panel-layout": {
     "height": 127.84375,
     "visible": true,
     "width": 100
    }
   },
   "source": [
    "# Numpy\n",
    "- Numpy library contains a multi-dimentional array and matrix data structures.\n",
    "- It aims to provide an array object that is upto 50x faster that traditional Python lists.\n",
    "- The array object in Numpy is called **ndarray**."
   ]
  },
  {
   "cell_type": "markdown",
   "id": "0112f733-ab5e-4ea6-b3be-20c5201f8804",
   "metadata": {
    "panel-layout": {
     "height": 112.46875,
     "visible": true,
     "width": 100
    }
   },
   "source": [
    "### Why is Numpy faster than lists?\n",
    "- Numpy arrays are stored ar one continuous place in memory unlike lists, so processes can access manipulate them very efficiently.\n",
    "- This behavior is called locality of reference in computer science.\n",
    "- This is the main reason why Numpy is faster than lists. Also it is optimized to work with latest CPU architectures."
   ]
  },
  {
   "cell_type": "markdown",
   "id": "867afb53-2f10-4ec0-9bdc-3bedf2aaf06a",
   "metadata": {
    "panel-layout": {
     "height": 50.8125,
     "visible": true,
     "width": 100
    }
   },
   "source": [
    "## Import numpy"
   ]
  },
  {
   "cell_type": "code",
   "execution_count": 1,
   "id": "245ac3c2-9071-46b6-a6dc-eb92283c5e6f",
   "metadata": {},
   "outputs": [],
   "source": [
    "import numpy as np"
   ]
  },
  {
   "cell_type": "markdown",
   "id": "e863f71b-4689-43a1-ae27-2c4b351f9f63",
   "metadata": {
    "panel-layout": {
     "height": 44.07291793823242,
     "visible": true,
     "width": 100
    }
   },
   "source": [
    "### Creating numpy array"
   ]
  },
  {
   "cell_type": "code",
   "execution_count": 2,
   "id": "14220f97-c21a-4d3f-9b4c-5f3e8e6759ae",
   "metadata": {
    "panel-layout": {
     "height": 0,
     "visible": true,
     "width": 100
    }
   },
   "outputs": [
    {
     "name": "stdout",
     "output_type": "stream",
     "text": [
      "[1 2 3 4 5]\n",
      "<class 'numpy.ndarray'>\n"
     ]
    }
   ],
   "source": [
    "ar1 = np.array([1,2,3,4,5]) # input as list\n",
    "print(ar1)\n",
    "print(type(ar1))"
   ]
  },
  {
   "cell_type": "code",
   "execution_count": 3,
   "id": "99727abc-c7b7-4e3e-b2f1-2b78ee5a0b36",
   "metadata": {
    "panel-layout": {
     "height": 0,
     "visible": true,
     "width": 100
    }
   },
   "outputs": [
    {
     "name": "stdout",
     "output_type": "stream",
     "text": [
      "[1 2 3 4 5]\n",
      "<class 'numpy.ndarray'>\n"
     ]
    }
   ],
   "source": [
    "ar2 = np.array((1,2,3,4,5)) # input as tuple\n",
    "print(ar2)\n",
    "print(type(ar2))"
   ]
  },
  {
   "cell_type": "markdown",
   "id": "14ba600a-3cb1-4fd8-bc33-b170094b5e6e",
   "metadata": {
    "panel-layout": {
     "height": 44.07291793823242,
     "visible": true,
     "width": 100
    }
   },
   "source": [
    "### Dimesions in array"
   ]
  },
  {
   "cell_type": "code",
   "execution_count": 4,
   "id": "ddc7542f-c5b3-49d1-82df-2f81b3a77f50",
   "metadata": {
    "panel-layout": {
     "height": 0,
     "visible": true,
     "width": 100
    }
   },
   "outputs": [
    {
     "name": "stdout",
     "output_type": "stream",
     "text": [
      "20\n",
      "0\n"
     ]
    }
   ],
   "source": [
    "ar3 = np.array(20)\n",
    "print(ar3)\n",
    "print(ar3.ndim)"
   ]
  },
  {
   "cell_type": "markdown",
   "id": "05054918-9955-47b1-93a1-1b45267ecf7f",
   "metadata": {
    "panel-layout": {
     "height": 44.07291793823242,
     "visible": true,
     "width": 100
    }
   },
   "source": [
    "### Find array Dimension"
   ]
  },
  {
   "cell_type": "code",
   "execution_count": 5,
   "id": "22c38e9f-42c3-4e2f-bf22-ebeb14c78d0d",
   "metadata": {
    "panel-layout": {
     "height": 0,
     "visible": true,
     "width": 100
    }
   },
   "outputs": [
    {
     "name": "stdout",
     "output_type": "stream",
     "text": [
      "[1 2 3 4 5]\n",
      "1\n"
     ]
    }
   ],
   "source": [
    "ar4 = np.array([1,2,3,4,5])\n",
    "print(ar4)\n",
    "print(ar4.ndim)"
   ]
  },
  {
   "cell_type": "code",
   "execution_count": 6,
   "id": "7df5b30f-58ae-4af3-9140-fe6e1c017025",
   "metadata": {
    "panel-layout": {
     "height": 0,
     "visible": true,
     "width": 100
    }
   },
   "outputs": [
    {
     "name": "stdout",
     "output_type": "stream",
     "text": [
      "[[1 2 3]\n",
      " [4 5 6]]\n",
      "2\n"
     ]
    }
   ],
   "source": [
    "ar5 = np.array([[1,2,3],[4,5,6]])\n",
    "print(ar5)\n",
    "print(ar5.ndim)"
   ]
  },
  {
   "cell_type": "code",
   "execution_count": 7,
   "id": "0d299dd2-9b4b-489a-bba9-f5d51d3d553d",
   "metadata": {
    "panel-layout": {
     "height": 0,
     "visible": true,
     "width": 100
    }
   },
   "outputs": [
    {
     "name": "stdout",
     "output_type": "stream",
     "text": [
      "[[[1 2]\n",
      "  [3 4]]\n",
      "\n",
      " [[5 6]\n",
      "  [7 8]]]\n",
      "2\n"
     ]
    }
   ],
   "source": [
    "ar6 = np.array([[[1,2],[3,4]],[[5,6],[7,8]]])\n",
    "print(ar6)\n",
    "print(ar5.ndim)"
   ]
  },
  {
   "cell_type": "markdown",
   "id": "9903113e-a7b5-4a56-b485-6747ed368872",
   "metadata": {
    "panel-layout": {
     "height": 95.33333587646484,
     "visible": true,
     "width": 100
    }
   },
   "source": [
    "### Higher dimensional arrays\n",
    "- An array can have any number of dimensions.\n",
    "- When the array is created, you can define the number of dimensions by using the **ndim** argument"
   ]
  },
  {
   "cell_type": "markdown",
   "id": "35be1159-fced-4555-b5ef-2215b6175e8a",
   "metadata": {
    "panel-layout": {
     "height": 44.07291793823242,
     "visible": true,
     "width": 100
    }
   },
   "source": [
    "### Creating an array with 5 dimensions and verify it has 5 dimensions"
   ]
  },
  {
   "cell_type": "code",
   "execution_count": 8,
   "id": "88467d1c-9cc1-493d-9d50-fa994df51117",
   "metadata": {
    "panel-layout": {
     "height": 0,
     "visible": true,
     "width": 100
    }
   },
   "outputs": [
    {
     "name": "stdout",
     "output_type": "stream",
     "text": [
      "[[[[[1 2 3 4]]]]]\n",
      "Number of dimensions:  5\n"
     ]
    }
   ],
   "source": [
    "arr = np.array([1,2,3,4],ndmin=5)\n",
    "\n",
    "print(arr)\n",
    "print(\"Number of dimensions: \",arr.ndim)"
   ]
  },
  {
   "cell_type": "markdown",
   "id": "c763b6c8-eced-4148-82f6-500567d763f3",
   "metadata": {
    "panel-layout": {
     "height": 44.07291793823242,
     "visible": true,
     "width": 100
    }
   },
   "source": [
    "### Slicing of numpy array"
   ]
  },
  {
   "cell_type": "code",
   "execution_count": 9,
   "id": "b7da2436-63e1-4752-9712-9b17c98db28c",
   "metadata": {
    "panel-layout": {
     "height": 0,
     "visible": true,
     "width": 100
    }
   },
   "outputs": [
    {
     "name": "stdout",
     "output_type": "stream",
     "text": [
      "[2 3 4 5]\n",
      "[2 4 6 8]\n"
     ]
    }
   ],
   "source": [
    "arr = np.array([1,2,3,4,5,6,7,8,9])\n",
    "print(arr[1:5])\n",
    "print(arr[1::2])"
   ]
  },
  {
   "cell_type": "markdown",
   "id": "ee89faa4-afa6-46e9-839d-42c60bfee638",
   "metadata": {
    "panel-layout": {
     "height": 278.6875,
     "visible": true,
     "width": 100
    }
   },
   "source": [
    "### Data types in NumPy\n",
    "Numpy has some extra data types and refer to data types with one character\n",
    "- i : integer\n",
    "- b : boolean\n",
    "- u : unsigned integer\n",
    "- f : float\n",
    "- c : complex float\n",
    "- m : timedelta\n",
    "- M : datetime\n",
    "- O : object\n",
    "- S : string\n",
    "- U : unicode string\n",
    "- V : fixed chunk of memory for other type (void)"
   ]
  },
  {
   "cell_type": "code",
   "execution_count": 10,
   "id": "ff53a1c7-a26b-42c2-81aa-8d0682b84a4b",
   "metadata": {
    "panel-layout": {
     "height": 0,
     "visible": true,
     "width": 100
    }
   },
   "outputs": [
    {
     "name": "stdout",
     "output_type": "stream",
     "text": [
      "int32\n"
     ]
    }
   ],
   "source": [
    "arr = np.array([1,2,3,4,5,6])\n",
    "print(arr.dtype)"
   ]
  },
  {
   "cell_type": "code",
   "execution_count": 11,
   "id": "0b53c0b1-beae-4d08-9bbe-6f0b28a6a7cf",
   "metadata": {
    "panel-layout": {
     "height": 0,
     "visible": true,
     "width": 100
    }
   },
   "outputs": [
    {
     "name": "stdout",
     "output_type": "stream",
     "text": [
      "[b'1' b'2' b'3' b'4']\n",
      "|S1\n"
     ]
    }
   ],
   "source": [
    "arr2 = np.array([1,2,3,4],dtype='S')\n",
    "print(arr2)\n",
    "print(arr2.dtype)"
   ]
  },
  {
   "cell_type": "markdown",
   "id": "f64bc40e-8154-4f35-ad3d-e852390b222f",
   "metadata": {
    "panel-layout": {
     "height": 78.19792175292969,
     "visible": true,
     "width": 100
    }
   },
   "source": [
    "### Array shape\n",
    "- the shape of an array is the number of elements in each dimension"
   ]
  },
  {
   "cell_type": "code",
   "execution_count": 12,
   "id": "a04bea95-0c45-432f-821a-93ff8f08158e",
   "metadata": {
    "panel-layout": {
     "height": 0,
     "visible": true,
     "width": 100
    }
   },
   "outputs": [
    {
     "name": "stdout",
     "output_type": "stream",
     "text": [
      "[[1 2 3 4]\n",
      " [5 6 7 8]]\n",
      "(2, 4)\n"
     ]
    }
   ],
   "source": [
    "ar1 = np.array([[1,2,3,4],[5,6,7,8]])\n",
    "print(ar1)\n",
    "print(ar1.shape)"
   ]
  },
  {
   "cell_type": "code",
   "execution_count": 13,
   "id": "13936757-6af3-455b-9f67-1a23c800207c",
   "metadata": {
    "panel-layout": {
     "height": 0,
     "visible": true,
     "width": 100
    }
   },
   "outputs": [
    {
     "name": "stdout",
     "output_type": "stream",
     "text": [
      "[[[ 1  2  3  4]\n",
      "  [ 5  6  7  8]\n",
      "  [10 20 30 40]]]\n",
      "(1, 3, 4)\n"
     ]
    }
   ],
   "source": [
    "ar2 = np.array([[[1,2,3,4],[5,6,7,8],[10,20,30,40]]])\n",
    "print(ar2)\n",
    "print(ar2.shape)"
   ]
  },
  {
   "cell_type": "markdown",
   "id": "965e0ee7-1f5c-494c-8a8e-9aa59f0020e1",
   "metadata": {
    "panel-layout": {
     "height": 44.07291793823242,
     "visible": true,
     "width": 100
    }
   },
   "source": [
    "### Joining numpy arrays"
   ]
  },
  {
   "cell_type": "code",
   "execution_count": 14,
   "id": "c8ef0a9b-6e4b-41f3-bc9c-8b6954a401e7",
   "metadata": {
    "panel-layout": {
     "height": 0,
     "visible": true,
     "width": 100
    }
   },
   "outputs": [
    {
     "name": "stdout",
     "output_type": "stream",
     "text": [
      "[1 2 3 4 5 6]\n"
     ]
    }
   ],
   "source": [
    "arr1 = np.array([1,2,3])\n",
    "arr2 = np.array([4,5,6])\n",
    "\n",
    "arr = np.concatenate((arr1,arr2))\n",
    "print(arr)"
   ]
  },
  {
   "cell_type": "markdown",
   "id": "4c487e27-9c03-4f3f-aa1f-4977373a1982",
   "metadata": {
    "panel-layout": {
     "height": 44.07291793823242,
     "visible": true,
     "width": 100
    }
   },
   "source": [
    "### Join 2D array"
   ]
  },
  {
   "cell_type": "code",
   "execution_count": 15,
   "id": "7e44588b-3221-4271-bef4-ee25a657bf5b",
   "metadata": {
    "panel-layout": {
     "height": 0,
     "visible": true,
     "width": 100
    }
   },
   "outputs": [
    {
     "name": "stdout",
     "output_type": "stream",
     "text": [
      "[[ 1  2  3 10 20 30]\n",
      " [ 4  5  6 40 50 60]]\n"
     ]
    }
   ],
   "source": [
    "arr3 = np.array([[1,2,3],[4,5,6]])\n",
    "arr4 = np.array([[10,20,30],[40,50,60]])\n",
    "\n",
    "arr = np.concatenate((arr3,arr4),axis=1) # row wise\n",
    "print(arr)"
   ]
  },
  {
   "cell_type": "code",
   "execution_count": 16,
   "id": "91a5a543-9623-46ee-a456-ec8936a6c06e",
   "metadata": {
    "panel-layout": {
     "height": 0,
     "visible": true,
     "width": 100
    }
   },
   "outputs": [
    {
     "name": "stdout",
     "output_type": "stream",
     "text": [
      "[[ 1  2  3]\n",
      " [ 4  5  6]\n",
      " [10 20 30]\n",
      " [40 50 60]]\n"
     ]
    }
   ],
   "source": [
    "arr3 = np.array([[1,2,3],[4,5,6]])\n",
    "arr4 = np.array([[10,20,30],[40,50,60]])\n",
    "\n",
    "arr = np.concatenate((arr3,arr4),axis=0) # column wise\n",
    "print(arr)"
   ]
  },
  {
   "cell_type": "markdown",
   "id": "85370185-81f7-4069-9a55-d392a50bb069",
   "metadata": {
    "panel-layout": {
     "height": 44.07291793823242,
     "visible": true,
     "width": 100
    }
   },
   "source": [
    "### Spliting numpy arrays"
   ]
  },
  {
   "cell_type": "code",
   "execution_count": 17,
   "id": "964c6653-f3ed-4ca6-ae25-a71ea90996f9",
   "metadata": {
    "panel-layout": {
     "height": 0,
     "visible": true,
     "width": 100
    }
   },
   "outputs": [
    {
     "name": "stdout",
     "output_type": "stream",
     "text": [
      "[array([1, 2]), array([3, 4]), array([5, 6])]\n"
     ]
    }
   ],
   "source": [
    "arr = np.array([1,2,3,4,5,6])\n",
    "newArr = np.array_split(arr,3)\n",
    "print(newArr)"
   ]
  },
  {
   "cell_type": "code",
   "execution_count": 18,
   "id": "273900ba-4a9c-4d93-98f2-000ef38ff9cf",
   "metadata": {
    "panel-layout": {
     "height": 0,
     "visible": true,
     "width": 100
    }
   },
   "outputs": [
    {
     "name": "stdout",
     "output_type": "stream",
     "text": [
      "[array([1, 2]), array([3, 4]), array([5]), array([6])]\n"
     ]
    }
   ],
   "source": [
    "arr = np.array([1,2,3,4,5,6])\n",
    "newArr = np.array_split(arr,4)\n",
    "print(newArr)"
   ]
  },
  {
   "cell_type": "markdown",
   "id": "66863928-fa37-4158-b69e-b5967c4cacd4",
   "metadata": {
    "panel-layout": {
     "height": 78.19792175292969,
     "visible": true,
     "width": 100
    }
   },
   "source": [
    "### ravel() & flatten() function\n",
    "- It converts multi-dimensional arrays into 1D array"
   ]
  },
  {
   "cell_type": "markdown",
   "id": "ccd29d7c-6cd9-4d75-b2db-c1f19f59a383",
   "metadata": {},
   "source": [
    "| **ravel()**     | **flatten()**      |\n",
    "| ------------- | ------------- |\n",
    "| Return only reference/view of the original array | Return copy of the original array |\n",
    "| If you modify the array you would notice that the value of the original array also changes. | If you modify any value of this array value of the original array is not affected. |\n",
    "| Ravel is faster than flatten() as it does not occupy any memory. | Flatten() is comparatively slower than ravel() as it occupies memory. |\n",
    "| Ravel is a library-level function.  | Flatten is a method of an ndarray object. Let us check out the difference in this code. |"
   ]
  },
  {
   "cell_type": "code",
   "execution_count": 19,
   "id": "bb7061f0-5fa0-48f8-8a40-0b30e0720d0f",
   "metadata": {},
   "outputs": [
    {
     "name": "stdout",
     "output_type": "stream",
     "text": [
      "[[[1 2 3]\n",
      "  [4 5 6]\n",
      "  [7 8 9]]]\n",
      "dimension is:  3\n",
      "[1 2 3 4 5 6 7 8 9]\n",
      "dimension is:  1\n"
     ]
    }
   ],
   "source": [
    "m = np.array([[[1,2,3],[4,5,6],[7,8,9]]])\n",
    "print(m)\n",
    "print(\"dimension is: \",m.ndim)\n",
    "\n",
    "n = m.ravel()\n",
    "print(n)\n",
    "print(\"dimension is: \",n.ndim)"
   ]
  },
  {
   "cell_type": "code",
   "execution_count": 20,
   "id": "1127c70b-9c19-47d7-9e67-aed793d9bf65",
   "metadata": {},
   "outputs": [
    {
     "name": "stdout",
     "output_type": "stream",
     "text": [
      "[[[1 2 3]\n",
      "  [4 5 6]\n",
      "  [7 8 9]]]\n",
      "dimension is:  3\n",
      "[1 2 3 4 5 6 7 8 9]\n",
      "dimension is:  1\n"
     ]
    }
   ],
   "source": [
    "m = np.array([[[1,2,3],[4,5,6],[7,8,9]]])\n",
    "print(m)\n",
    "print(\"dimension is: \",m.ndim)\n",
    "\n",
    "n = m.flatten()\n",
    "print(n)\n",
    "print(\"dimension is: \",n.ndim)"
   ]
  },
  {
   "cell_type": "markdown",
   "id": "4f32c769-b254-4203-9331-dafb37f8bc08",
   "metadata": {},
   "source": [
    "### unique() function"
   ]
  },
  {
   "cell_type": "code",
   "execution_count": 21,
   "id": "b030095e-8736-47ca-924b-f1a12b56c0f6",
   "metadata": {},
   "outputs": [
    {
     "name": "stdout",
     "output_type": "stream",
     "text": [
      "[12  1  4  6  7  9  3  4  5 22 33  7  6  9  1  2 12]\n",
      "[ 1  2  3  4  5  6  7  9 12 22 33]\n"
     ]
    }
   ],
   "source": [
    "k = np.array([12,1,4,6,7,9,3,4,5,22,33,7,6,9,1,2,12])\n",
    "print(k)\n",
    "\n",
    "x = np.unique(k)\n",
    "print(x)"
   ]
  },
  {
   "cell_type": "code",
   "execution_count": 26,
   "id": "b64e6960-8a8d-4f99-86b7-42484ec4118d",
   "metadata": {},
   "outputs": [
    {
     "name": "stdout",
     "output_type": "stream",
     "text": [
      "[12  1  4  6  7  9  3  4  5 22 33  7  6  9  1  2 12]\n",
      "\n",
      "(array([ 1,  2,  3,  4,  5,  6,  7,  9, 12, 22, 33]), array([ 1, 15,  6,  2,  8,  3,  4,  5,  0,  9, 10], dtype=int64), array([2, 1, 1, 2, 1, 2, 2, 2, 2, 1, 1], dtype=int64))\n"
     ]
    }
   ],
   "source": [
    "k = np.array([12,1,4,6,7,9,3,4,5,22,33,7,6,9,1,2,12])\n",
    "print(k)\n",
    "print()\n",
    "x = np.unique(k, return_index=True, return_counts=True)\n",
    "print(x)"
   ]
  },
  {
   "cell_type": "markdown",
   "id": "3cc14fdc-baa0-4c20-9d13-e2aa9e17c0f7",
   "metadata": {},
   "source": [
    "### delete() function"
   ]
  },
  {
   "cell_type": "code",
   "execution_count": 27,
   "id": "91f284c6-27bf-46aa-9017-c427c0e19f44",
   "metadata": {},
   "outputs": [
    {
     "name": "stdout",
     "output_type": "stream",
     "text": [
      "[12 13 14 15]\n",
      "\n",
      "[12 14 15]\n"
     ]
    }
   ],
   "source": [
    "a = np.array([12,13,14,15])\n",
    "d = np.delete(a,[1])\n",
    "print(a)\n",
    "print()\n",
    "print(d)"
   ]
  },
  {
   "cell_type": "code",
   "execution_count": 28,
   "id": "25f52186-e6b6-4ef6-bc1b-7bbca52eaad1",
   "metadata": {},
   "outputs": [
    {
     "name": "stdout",
     "output_type": "stream",
     "text": [
      "[[1 2 3]\n",
      " [4 5 6]\n",
      " [7 8 9]]\n",
      "\n",
      "[[1 2 3]\n",
      " [7 8 9]]\n"
     ]
    }
   ],
   "source": [
    "x = np.array([[1,2,3],[4,5,6],[7,8,9]])\n",
    "print(x)\n",
    "m = np.delete(x,1,axis=0)\n",
    "print()\n",
    "print(m)"
   ]
  }
 ],
 "metadata": {
  "kernelspec": {
   "display_name": "Python 3 (ipykernel)",
   "language": "python",
   "name": "python3"
  },
  "language_info": {
   "codemirror_mode": {
    "name": "ipython",
    "version": 3
   },
   "file_extension": ".py",
   "mimetype": "text/x-python",
   "name": "python",
   "nbconvert_exporter": "python",
   "pygments_lexer": "ipython3",
   "version": "3.12.7"
  },
  "panel-cell-order": [
   "8ec6c454-0f48-4637-9315-9667da0316ad",
   "0112f733-ab5e-4ea6-b3be-20c5201f8804",
   "867afb53-2f10-4ec0-9bdc-3bedf2aaf06a",
   "e863f71b-4689-43a1-ae27-2c4b351f9f63",
   "14220f97-c21a-4d3f-9b4c-5f3e8e6759ae",
   "99727abc-c7b7-4e3e-b2f1-2b78ee5a0b36",
   "14ba600a-3cb1-4fd8-bc33-b170094b5e6e",
   "ddc7542f-c5b3-49d1-82df-2f81b3a77f50",
   "05054918-9955-47b1-93a1-1b45267ecf7f",
   "22c38e9f-42c3-4e2f-bf22-ebeb14c78d0d",
   "7df5b30f-58ae-4af3-9140-fe6e1c017025",
   "0d299dd2-9b4b-489a-bba9-f5d51d3d553d",
   "9903113e-a7b5-4a56-b485-6747ed368872",
   "35be1159-fced-4555-b5ef-2215b6175e8a",
   "88467d1c-9cc1-493d-9d50-fa994df51117",
   "c763b6c8-eced-4148-82f6-500567d763f3",
   "b7da2436-63e1-4752-9712-9b17c98db28c",
   "ee89faa4-afa6-46e9-839d-42c60bfee638",
   "ff53a1c7-a26b-42c2-81aa-8d0682b84a4b",
   "0b53c0b1-beae-4d08-9bbe-6f0b28a6a7cf",
   "f64bc40e-8154-4f35-ad3d-e852390b222f",
   "a04bea95-0c45-432f-821a-93ff8f08158e",
   "13936757-6af3-455b-9f67-1a23c800207c",
   "965e0ee7-1f5c-494c-8a8e-9aa59f0020e1",
   "c8ef0a9b-6e4b-41f3-bc9c-8b6954a401e7",
   "4c487e27-9c03-4f3f-aa1f-4977373a1982",
   "7e44588b-3221-4271-bef4-ee25a657bf5b",
   "91a5a543-9623-46ee-a456-ec8936a6c06e",
   "85370185-81f7-4069-9a55-d392a50bb069",
   "964c6653-f3ed-4ca6-ae25-a71ea90996f9",
   "273900ba-4a9c-4d93-98f2-000ef38ff9cf",
   "66863928-fa37-4158-b69e-b5967c4cacd4"
  ]
 },
 "nbformat": 4,
 "nbformat_minor": 5
}
