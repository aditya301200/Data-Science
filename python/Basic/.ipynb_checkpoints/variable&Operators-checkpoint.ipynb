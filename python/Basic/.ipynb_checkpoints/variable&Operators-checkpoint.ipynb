{
 "cells": [
  {
   "cell_type": "markdown",
   "id": "bd759ba7-2eae-48bb-993b-e9a8e2abf02b",
   "metadata": {},
   "source": [
    "# Variables & Operators"
   ]
  },
  {
   "cell_type": "code",
   "execution_count": 1,
   "id": "3a2e450e-757b-4f12-a554-677db575dc01",
   "metadata": {},
   "outputs": [
    {
     "name": "stdout",
     "output_type": "stream",
     "text": [
      "1\n"
     ]
    }
   ],
   "source": [
    "a = 1\n",
    "print(a)"
   ]
  },
  {
   "cell_type": "code",
   "execution_count": 2,
   "id": "d1b5b06a-975f-4d31-9c8c-202c4f81eea2",
   "metadata": {},
   "outputs": [
    {
     "name": "stdout",
     "output_type": "stream",
     "text": [
      "2 2.3\n"
     ]
    }
   ],
   "source": [
    "b = 2\n",
    "c = 2.3\n",
    "print(b,c)"
   ]
  },
  {
   "cell_type": "code",
   "execution_count": 3,
   "id": "9240a2bb-405e-4c98-8b0f-e74fb9343b7e",
   "metadata": {},
   "outputs": [
    {
     "name": "stdout",
     "output_type": "stream",
     "text": [
      "apple\n"
     ]
    }
   ],
   "source": [
    "x = \"apple\"\n",
    "print(x)"
   ]
  },
  {
   "cell_type": "code",
   "execution_count": 5,
   "id": "a4e6e6e1-644a-4635-b408-2bfa15209905",
   "metadata": {},
   "outputs": [
    {
     "name": "stdout",
     "output_type": "stream",
     "text": [
      "orange\n",
      "banana\n",
      "cherry\n"
     ]
    }
   ],
   "source": [
    "x,y,z = \"orange\",\"banana\",\"cherry\"\n",
    "print(x)\n",
    "print(y)\n",
    "print(z)"
   ]
  },
  {
   "cell_type": "code",
   "execution_count": 6,
   "id": "90f60bb1-adf9-4212-8677-a88e8775225b",
   "metadata": {},
   "outputs": [
    {
     "name": "stdout",
     "output_type": "stream",
     "text": [
      "orange\n",
      "orange\n",
      "orange\n"
     ]
    }
   ],
   "source": [
    "x = y = z = \"orange\"\n",
    "print(x)\n",
    "print(y)\n",
    "print(z)"
   ]
  },
  {
   "cell_type": "markdown",
   "id": "5f3a1054-3ce7-4c08-b958-79a5a3cee5ad",
   "metadata": {},
   "source": [
    "## output variables"
   ]
  },
  {
   "cell_type": "code",
   "execution_count": 7,
   "id": "367d8474-ac4c-4287-bf03-d819bd945701",
   "metadata": {},
   "outputs": [
    {
     "name": "stdout",
     "output_type": "stream",
     "text": [
      "python is amazing\n",
      "\n",
      "python\n",
      "is\n",
      "amazing\n"
     ]
    }
   ],
   "source": [
    "x = \"python\"\n",
    "y = \"is\"\n",
    "z = \"amazing\"\n",
    "print(x,y,z)\n",
    "print()\n",
    "print(x)\n",
    "print(y)\n",
    "print(z)"
   ]
  },
  {
   "cell_type": "markdown",
   "id": "9fc33cc3-fb27-42f3-9387-1cc6a767549a",
   "metadata": {},
   "source": [
    "## data Types"
   ]
  },
  {
   "cell_type": "code",
   "execution_count": 9,
   "id": "967b82e9-fb61-4ea3-8166-e0ea03e4ce8b",
   "metadata": {},
   "outputs": [
    {
     "name": "stdout",
     "output_type": "stream",
     "text": [
      "2\n",
      "<class 'int'>\n"
     ]
    }
   ],
   "source": [
    "x = 2\n",
    "print(x)\n",
    "print(type(x))"
   ]
  },
  {
   "cell_type": "code",
   "execution_count": 10,
   "id": "047430fc-bf63-4296-967c-d44784b785bc",
   "metadata": {},
   "outputs": [
    {
     "name": "stdout",
     "output_type": "stream",
     "text": [
      "4.55\n",
      "<class 'float'>\n"
     ]
    }
   ],
   "source": [
    "y = 4.55\n",
    "print(y)\n",
    "print(type(y))"
   ]
  },
  {
   "cell_type": "code",
   "execution_count": 11,
   "id": "c3a5d9d9-2da0-4e3b-8ad5-bf4234307889",
   "metadata": {},
   "outputs": [
    {
     "name": "stdout",
     "output_type": "stream",
     "text": [
      "(2+5j)\n",
      "<class 'complex'>\n"
     ]
    }
   ],
   "source": [
    "z = 2+5j\n",
    "print(z)\n",
    "print(type(z))"
   ]
  },
  {
   "cell_type": "code",
   "execution_count": 12,
   "id": "ec80511f-ae8a-4fcf-b216-13f8aaca2caa",
   "metadata": {},
   "outputs": [
    {
     "name": "stdout",
     "output_type": "stream",
     "text": [
      "this is python string\n",
      "<class 'str'>\n"
     ]
    }
   ],
   "source": [
    "a = \"this is python string\"\n",
    "print(a)\n",
    "print(type(a))\n"
   ]
  },
  {
   "cell_type": "code",
   "execution_count": 13,
   "id": "82d4e68d-0c46-40e3-996e-90c8167775b4",
   "metadata": {},
   "outputs": [
    {
     "name": "stdout",
     "output_type": "stream",
     "text": [
      "[1, 2, 3, 4, 5, 6, 7, 8]\n",
      "<class 'list'>\n"
     ]
    }
   ],
   "source": [
    "b = [1,2,3,4,5,6,7,8]\n",
    "print(b)\n",
    "print(type(b))"
   ]
  },
  {
   "cell_type": "code",
   "execution_count": 14,
   "id": "0b711597-ace8-4427-a53a-bd50f4990530",
   "metadata": {},
   "outputs": [
    {
     "name": "stdout",
     "output_type": "stream",
     "text": [
      "(1, 2, 3, 4, 5, 6, 7, 8)\n",
      "<class 'tuple'>\n"
     ]
    }
   ],
   "source": [
    "c = (1,2,3,4,5,6,7,8)\n",
    "print(c)\n",
    "print(type(c))"
   ]
  },
  {
   "cell_type": "markdown",
   "id": "157e56cc-4c66-4806-95bb-50b9af8158f4",
   "metadata": {},
   "source": [
    "## Know all varible names and their types and data"
   ]
  },
  {
   "cell_type": "code",
   "execution_count": 15,
   "id": "518ca821-5c37-4a70-8b23-226ab65cccee",
   "metadata": {},
   "outputs": [
    {
     "name": "stdout",
     "output_type": "stream",
     "text": [
      "Variable   Type       Data/Info\n",
      "-------------------------------\n",
      "a          str        this is python string\n",
      "b          list       n=8\n",
      "c          tuple      n=8\n",
      "x          int        2\n",
      "y          float      4.55\n",
      "z          complex    (2+5j)\n"
     ]
    }
   ],
   "source": [
    "%whos"
   ]
  },
  {
   "cell_type": "code",
   "execution_count": null,
   "id": "b4762b3a-fa58-4bef-925a-5a701609d7a0",
   "metadata": {},
   "outputs": [],
   "source": []
  }
 ],
 "metadata": {
  "kernelspec": {
   "display_name": "Python 3 (ipykernel)",
   "language": "python",
   "name": "python3"
  },
  "language_info": {
   "codemirror_mode": {
    "name": "ipython",
    "version": 3
   },
   "file_extension": ".py",
   "mimetype": "text/x-python",
   "name": "python",
   "nbconvert_exporter": "python",
   "pygments_lexer": "ipython3",
   "version": "3.12.7"
  }
 },
 "nbformat": 4,
 "nbformat_minor": 5
}
